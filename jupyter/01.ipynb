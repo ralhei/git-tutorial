{
 "cells": [
  {
   "cell_type": "markdown",
   "metadata": {
    "slideshow": {
     "slide_type": "slide"
    }
   },
   "source": [
    "# Git course\n",
    "\n",
    "### by Ralph Heinkel\n",
    "rh@ralph-heinkel.com\n",
    "\n",
    "<small>Published under [Creative Commons Attribution ShareAlike (CC BY-SA) license](https://creativecommons.org/licenses/by-sa/4.0/).</small>\n",
    "[<img style=\"vertical-align: left;\" src=\"Images/cc-by-sa.png\">](https://creativecommons.org/licenses/by-sa/4.0/)"
   ]
  },
  {
   "cell_type": "markdown",
   "metadata": {
    "slideshow": {
     "slide_type": "subslide"
    }
   },
   "source": [
    "# About Ralph Heinkel\n",
    "\n",
    "### History:\n",
    " * Studied Medical Computer Science at University of Heidelberg\n",
    " * Diploma theses at EMBL in structural biology\n",
    " * Supercomputing Resource Manager at EMBL\n",
    " * IT unit director at Cenix Bioscience GmbH\n",
    " \n",
    "### Current:\n",
    " * Freelance biocomputing and IT consultant (GlaxoSmithCline, Oxford University, SAP, ...)\n"
   ]
  },
  {
   "cell_type": "markdown",
   "metadata": {
    "slideshow": {
     "slide_type": "slide"
    }
   },
   "source": [
    "# Overview\n",
    " 1. Git recap\n",
    " 2. Github\n",
    "   - Let's inspect a mature project\n",
    "   - Your own github learning project\n",
    " 3. git command line interface (CLI)\n",
    " 4. Cloning and Pushing (to/from local repo)\n",
    " 5. Collaborative working"
   ]
  },
  {
   "cell_type": "markdown",
   "metadata": {
    "slideshow": {
     "slide_type": "skip"
    }
   },
   "source": [
    "##  Detailed overview - Git recap\n",
    "- What is a version control system?\n",
    "- What is git? Distributed version control systems (DVCS)\n",
    "  - No central server, peer-to-peer instead\n",
    "  - Full copy of repo on every peer's computer\n",
    "  - Can be used offline, most operations are local anyway\n",
    "  - Only patches are transferred when sync'ing with peers\n",
    "  - Releases usually coordinated on reference repo (e.g. github)\n",
    "- Structure of git\n",
    "  - working directory / staging area / git repo\n",
    "  - three stages (modified / staged / committed)\n",
    "  - git hash (checksum) for each commit (for everything)\n"
   ]
  },
  {
   "cell_type": "markdown",
   "metadata": {
    "slideshow": {
     "slide_type": "skip"
    }
   },
   "source": [
    "## Detailed overview - Github\n",
    "\n",
    "Let's inspect a mature project\n",
    "https://github.com/pallets/click\n",
    "\n",
    "- General stuff\n",
    "  - Commits\n",
    "  - Branches\n",
    "  - Releases\n",
    "  - Contributors\n",
    "  - Forks\n",
    "- Inspecting files\n",
    "  - History\n",
    "  - Looking at diffs\n",
    "  - Blame / Annotate"
   ]
  },
  {
   "cell_type": "markdown",
   "metadata": {
    "slideshow": {
     "slide_type": "skip"
    }
   },
   "source": [
    "## Detailed overview - Github learning project\n",
    "- create repo, check the 'Create a README'\n",
    "- change README, make commit, check log\n",
    "- create a branch, commit multiple README changes\n",
    "- open a pull request\n",
    "- inspect pull request, possibly code review\n",
    "- merge pull request\n",
    "- look at network graph"
   ]
  },
  {
   "cell_type": "markdown",
   "metadata": {
    "slideshow": {
     "slide_type": "skip"
    }
   },
   "source": [
    "## Detailed overview - git CLI\n",
    "- git clone\n",
    "- git config\n",
    "- git log (--decorate)\n",
    "- git add\n",
    "- git commit\n",
    "- git push"
   ]
  },
  {
   "cell_type": "markdown",
   "metadata": {
    "slideshow": {
     "slide_type": "skip"
    }
   },
   "source": [
    "## Detailed overview - Collaborative working\n",
    "- Find a peer (e.g. your neighbour)\n",
    "    - Owner: clone your repo\n",
    "    - Peer: fork your neighbour's repo and clone it\n",
    "- Do further commits:\n",
    "  - add new files\n",
    "  - change existing lines in common README.md file\n",
    "- Push changes, each to his/her own (forked) repo\n",
    "- Owner and Peer togther solve merge conflict in Github\n",
    "\n"
   ]
  },
  {
   "cell_type": "markdown",
   "metadata": {
    "slideshow": {
     "slide_type": "slide"
    }
   },
   "source": [
    "# 1. Git recap"
   ]
  },
  {
   "cell_type": "markdown",
   "metadata": {
    "slideshow": {
     "slide_type": "subslide"
    }
   },
   "source": [
    "# What is git?"
   ]
  },
  {
   "cell_type": "markdown",
   "metadata": {
    "slideshow": {
     "slide_type": "fragment"
    }
   },
   "source": [
    "It is a **Distributed Version Control System DVCS**"
   ]
  },
  {
   "cell_type": "markdown",
   "metadata": {
    "slideshow": {
     "slide_type": "fragment"
    }
   },
   "source": [
    "## A what? "
   ]
  },
  {
   "cell_type": "markdown",
   "metadata": {
    "slideshow": {
     "slide_type": "fragment"
    }
   },
   "source": [
    "## And why would we need this?"
   ]
  },
  {
   "cell_type": "markdown",
   "metadata": {
    "slideshow": {
     "slide_type": "subslide"
    }
   },
   "source": [
    "# Does this look familiar?"
   ]
  },
  {
   "cell_type": "markdown",
   "metadata": {
    "slideshow": {
     "slide_type": "fragment"
    }
   },
   "source": [
    "You have a document, work on it for some time, creating multiple versions ..."
   ]
  },
  {
   "cell_type": "markdown",
   "metadata": {
    "slideshow": {
     "slide_type": "fragment"
    }
   },
   "source": [
    "... and store them like `master_thesis.docx`"
   ]
  },
  {
   "cell_type": "markdown",
   "metadata": {
    "slideshow": {
     "slide_type": "fragment"
    }
   },
   "source": [
    "... and then like `master_thesis_final.docx`"
   ]
  },
  {
   "cell_type": "markdown",
   "metadata": {
    "slideshow": {
     "slide_type": "fragment"
    }
   },
   "source": [
    "... and `master_thesis_final_with_corrections.docx`"
   ]
  },
  {
   "cell_type": "markdown",
   "metadata": {
    "slideshow": {
     "slide_type": "fragment"
    }
   },
   "source": [
    "... and `master_thesis_final_with_more_corrections.docx`"
   ]
  },
  {
   "cell_type": "markdown",
   "metadata": {
    "slideshow": {
     "slide_type": "fragment"
    }
   },
   "source": [
    "... and `master_thesis_really_final.docx`"
   ]
  },
  {
   "cell_type": "markdown",
   "metadata": {
    "slideshow": {
     "slide_type": "fragment"
    }
   },
   "source": [
    "... and `master_thesis_really_final2.docx`\n",
    "..."
   ]
  },
  {
   "cell_type": "markdown",
   "metadata": {
    "slideshow": {
     "slide_type": "subslide"
    }
   },
   "source": [
    "## Then: time has come for a \n",
    "\n",
    "# Version Control System (VCS)"
   ]
  },
  {
   "cell_type": "markdown",
   "metadata": {
    "slideshow": {
     "slide_type": "subslide"
    }
   },
   "source": [
    "# A Local VCS\n",
    "<img style=\"height: 600px;\" align=\"center\" src=\"Images/local-version-control-system.png\">\n",
    "\n",
    "Examples: `rcs`, but also `git`.\n",
    "\n",
    "<small>Source of image (and all other below as well): https://www.atlassian.com/git/tutorials</small>"
   ]
  },
  {
   "cell_type": "markdown",
   "metadata": {
    "slideshow": {
     "slide_type": "subslide"
    }
   },
   "source": [
    "# A Centralized VCS\n",
    "<img style=\"height: 600px;\" align=\"center\" src=\"Images/centralized-version-control-system.png\">\n",
    "\n",
    "Examples: `cvs`, `subversion`."
   ]
  },
  {
   "cell_type": "markdown",
   "metadata": {
    "slideshow": {
     "slide_type": "subslide"
    }
   },
   "source": [
    "# A Distributed VCS\n",
    "<img style=\"height: 600px;\" align=\"center\" src=\"Images/distributed-version-control-system.png\">\n",
    "\n",
    "Examples: `git`, `mercurial`"
   ]
  },
  {
   "cell_type": "markdown",
   "metadata": {
    "slideshow": {
     "slide_type": "subslide"
    }
   },
   "source": [
    "# Some git repository characteristics\n",
    "\n",
    "- No central server, peer-to-peer instead\n",
    "- Full copy of the repo on every peer's computer\n",
    "- Can be used offline, most operations are local anyway\n",
    "- Only patches are transferred when sync'ing with peers (push)\n",
    "- Releases usually coordinated on reference repo (e.g. github)"
   ]
  },
  {
   "cell_type": "markdown",
   "metadata": {
    "slideshow": {
     "slide_type": "subslide"
    }
   },
   "source": [
    "# Git creates snapshots of a 'mini-filesystem'\n",
    "\n",
    "<img style=\"height: 400px;\" align=\"center\" src=\"Images/checkins-over-time-2.png\">\n",
    "\n",
    "In order to obtain Version 3 (A1, B, C2), the 'vertical' snapshot can be checkout with:\n",
    "```\n",
    "Cmd:         git checkout <hash of version 3>\n",
    "i.e.         git checkout 142d6bd3b81629a4435f4c9bd425e2d5\n",
    "or shorter:  git checkout 142d6bd3b    # (if unique)   \n",
    "or with tag: git checkout Version3\n",
    "```\n",
    "\n",
    "### Every commit has a unique hash (a checksum) within the repo!"
   ]
  },
  {
   "cell_type": "raw",
   "metadata": {
    "slideshow": {
     "slide_type": "subslide"
    }
   },
   "source": [
    "$ git log --name-status --decorate\n",
    "commit 142d6bd3b81629a4435f4c9bd425e2d5  (tag: Version3)                                                               \n",
    "Author: Ralph Heinkel <rh@ralph-heinkel.com>                                                                    \n",
    "Date:   Fri Oct 18 13:49:25 2019 +0200                                                                          \n",
    "    Version 3\n",
    "M       C\n",
    "\n",
    "commit 71a03e1374c3e33b3cd1a926b8587d24 \n",
    "Author: Ralph Heinkel <rh@ralph-heinkel.com>\n",
    "Date:   Fri Oct 18 13:49:24 2019 +0200\n",
    "    Version 2\n",
    "M       A\n",
    "M       C\n",
    "\n",
    "commit 926d5dc3effdb248f385680621e4f9f0\n",
    "Author: Ralph Heinkel <rh@ralph-heinkel.com>\n",
    "Date:   Fri Oct 18 13:49:23 2019 +0200\n",
    "    Version 1\n",
    "A       A\n",
    "A       B\n",
    "A       C"
   ]
  },
  {
   "cell_type": "markdown",
   "metadata": {
    "slideshow": {
     "slide_type": "slide"
    }
   },
   "source": [
    "# Let's go to Github"
   ]
  },
  {
   "cell_type": "markdown",
   "metadata": {
    "slideshow": {
     "slide_type": "subslide"
    }
   },
   "source": [
    "# Tasks on Github\n",
    "(we go through this step by step in a minute)\n",
    "1. create repo (accept all defaults)\n",
    "1. add a README file, make commit\n",
    "1. check log, check diff\n",
    "1. create a branch, commit multiple README changes\n",
    "1. open a pull request\n",
    "1. inspect pull request, possibly code review\n",
    "1. merge pull request\n",
    "1. look at network graph"
   ]
  },
  {
   "cell_type": "markdown",
   "metadata": {
    "slideshow": {
     "slide_type": "subslide"
    }
   },
   "source": [
    "# Let's work on the first three steps on Github\n",
    "\n",
    "0. Login with your own user account (you have one, do you?)\n",
    "1. create repo\n",
    "    - choose a name, keep any other default value\n",
    "    - by default every new repo contains a 'master' branch.\n",
    "2. Let's change the master branch in the repo\n",
    "    - click on 'Create new file'\n",
    "    - name it README.md, add some content (do you know 'markdown'?), use preview\n",
    "    - at the bottom add a commit message, and commit. Check log.\n",
    "    - add more files, check log again\n",
    "    - change those added files\n",
    "3. look at logs and diffs"
   ]
  },
  {
   "cell_type": "markdown",
   "metadata": {
    "slideshow": {
     "slide_type": "subslide"
    }
   },
   "source": [
    "# What is a branch? And how to deal with it ...\n",
    "\n",
    "- Branch allow to store variations of repo content in a separate 'area'\n",
    "- Can be easily created, merged back, but also deleted\n",
    "- Useful for creating new or experimental features\n",
    "- Good practice is to 'code review' them before merging into main branch"
   ]
  },
  {
   "cell_type": "markdown",
   "metadata": {
    "slideshow": {
     "slide_type": "subslide"
    }
   },
   "source": [
    "### Branch before merge:\n",
    "<img style=\"height: 300px;\" align=\"center\" src=\"Images/branch-before-merge.png\">\n",
    "\n",
    "### Branch after merge (e.g. via pull request):\n",
    "<img style=\"height: 300px;\" align=\"center\" src=\"Images/branch-after-merge.png\">"
   ]
  },
  {
   "cell_type": "markdown",
   "metadata": {
    "slideshow": {
     "slide_type": "subslide"
    }
   },
   "source": [
    "# Back to Github\n",
    "\n",
    "1. Create a branch from master<br/>\n",
    "   - click on the 'branch:master' button. \n",
    "   - a drop down opens\n",
    "   - type in a name for the new branch, e.g. 'my-feature'\n",
    "2. Add at least one new file and few commits (also to the README)\n",
    "\n",
    "Then we take care about merging those changes back to the 'master' branch by a Pull Request on the next section."
   ]
  },
  {
   "cell_type": "markdown",
   "metadata": {
    "slideshow": {
     "slide_type": "subslide"
    }
   },
   "source": [
    "# What is a pull request?\n",
    "\n",
    "### A pull request is a request to the maintainer of a project to merge a branch into the main repo (into the master branch, in our case).\n",
    "\n",
    "The branch to be merged can be located\n",
    " - within the same repo\n",
    " - but more often within a (forked) repo (on Github)\n",
    "\n",
    "### A pull request \n",
    " - is usually created by the person working on the feature (branch)\n",
    " - can - or better: should - be combined with a \"code review\" by the maintainer"
   ]
  },
  {
   "cell_type": "markdown",
   "metadata": {
    "slideshow": {
     "slide_type": "subslide"
    }
   },
   "source": [
    "# Create a pull request for your feature branch\n",
    "\n",
    "- Click on the 'pull requests' tab in the sub menu bar\n",
    "- Github will immediately propose possible pull requests\n",
    "- Click on the 'Compare & pull request' button\n",
    "- Provide some details of your feature to help the maintainer. Optionally provide extended details.\n",
    "- Click on 'Create pull request'.\n",
    "\n",
    "## Now switching roles, pretend to be the maintainer\n",
    "- Checkout the contents of the pull request<br/>\n",
    "  Look at the 'commits' and 'files changed' tab\n",
    "- On the 'files changed' tab you can move over the lines with your mouse, a blue 'add' button should appear\n",
    "- If you click you'll be offered a little entry text box, allowing to provide a comment to the auther of the feature branch. The author will automatically receive an email about your comment.\n",
    "- Click on the green 'Review changes' and decide how to handle this request (accept, reject)"
   ]
  },
  {
   "cell_type": "markdown",
   "metadata": {
    "slideshow": {
     "slide_type": "slide"
    }
   },
   "source": [
    "# The git command line interface (CLI)"
   ]
  },
  {
   "cell_type": "markdown",
   "metadata": {
    "slideshow": {
     "slide_type": "subslide"
    }
   },
   "source": [
    "# First steps:\n",
    "\n",
    "- Clone the repo -> get the URL from Github!\n",
    "\n",
    "  `git clone https://github.com/<user>/<repo>`<br/>\n",
    "  `cd <repo>`\n",
    "  \n",
    "- Check which branch you are on:\n",
    "\n",
    "  `git branch`\n",
    "  \n",
    "- Show available branches (the asterix tells the current one):\n",
    "\n",
    "  `git branch --all`\n",
    "  \n",
    "- Checkout a different branch:\n",
    "\n",
    "  `git checkout somebranch`"
   ]
  },
  {
   "cell_type": "markdown",
   "metadata": {
    "slideshow": {
     "slide_type": "subslide"
    }
   },
   "source": [
    "# Anatomy of a local git repo\n",
    "\n",
    "<img style=\"height: 400px;\" align=\"center\" src=\"Images/local-operations.png\">\n"
   ]
  },
  {
   "cell_type": "markdown",
   "metadata": {
    "slideshow": {
     "slide_type": "subslide"
    }
   },
   "source": [
    "# Inspecting and modifying the state of the local repo\n",
    "\n",
    "Use `git status` to inspect the state of the local repo:\n",
    "```\n",
    "$ git status\n",
    "# On branch master\n",
    "nothing to commit, working directory clean\n",
    "```\n",
    "\n",
    "Add a new file and inspect again:\n",
    "```\n",
    "$ echo 'my new D file' > D\n",
    "$ git status\n",
    "# On branch master\n",
    "# Untracked files:\n",
    "#   (use \"git add <file>...\" to include in what will be committed)\n",
    "#\n",
    "#       D\n",
    "nothing added to commit but untracked files present (use \"git add\" to track)\n",
    "```"
   ]
  },
  {
   "cell_type": "markdown",
   "metadata": {
    "slideshow": {
     "slide_type": "subslide"
    }
   },
   "source": [
    "### Adding the new file to the staging area\n",
    "```\n",
    "$ git add D\n",
    "$ git status\n",
    "# On branch master\n",
    "# Changes to be committed:\n",
    "#   (use \"git reset HEAD <file>...\" to unstage)\n",
    "#\n",
    "#       new file:   D\n",
    "```\n",
    "A followup `git commit` would now commit D to the repo.\n",
    "\n",
    "### Unstaging a file\n",
    "```\n",
    "$ git reset D\n",
    "$ git status\n",
    "# On branch master\n",
    "# Untracked files:\n",
    "#   (use \"git add <file>...\" to include in what will be committed)\n",
    "#\n",
    "#       D\n",
    "nothing added to commit but untracked files present (use \"git add\" to track)\n",
    "```\n",
    "**Important:** The new file keeps its content, but is unstaged."
   ]
  },
  {
   "cell_type": "markdown",
   "metadata": {
    "slideshow": {
     "slide_type": "subslide"
    }
   },
   "source": [
    "# Changing a committed file...\n",
    "```\n",
    "$ echo 'some new content' > C\n",
    "# On branch master\n",
    "# Changes not staged for commit:\n",
    "#   (use \"git add <file>...\" to update what will be committed)\n",
    "#   (use \"git checkout -- <file>...\" to discard changes in working directory)\n",
    "#\n",
    "#       modified:   C\n",
    "```\n",
    "# ... and reverting the change:\n",
    "```\n",
    "$ git checkout C\n",
    "$ cat C\n",
    "C3\n",
    "```"
   ]
  },
  {
   "cell_type": "markdown",
   "metadata": {
    "slideshow": {
     "slide_type": "subslide"
    }
   },
   "source": [
    "### Before we do an actual commit:\n",
    "# Intermezzo: Some basic git configuration (1)\n",
    "\n",
    "Commiting a file to git will store\n",
    " - the (human readable) name of the committer\n",
    " - and her/his email address\n",
    " \n",
    "to the commit. These two items are important to be set prior to the first commit:\n",
    "```\n",
    "git config [--global] user.name 'Donald Duck'\n",
    "git config [--global] user.email 'donald@duck-city.com'\n",
    "```\n",
    "Local (i.e. non-global) configurations are stored in `.git/config` of your repo, and are only valid for this specific repo.<br/>\n",
    "Global configurations are stored in `~/.gitconfig`. This configuration is valid for all repos with do not override this information locally.\n"
   ]
  },
  {
   "cell_type": "markdown",
   "metadata": {
    "slideshow": {
     "slide_type": "subslide"
    }
   },
   "source": [
    "# Committing a change\n",
    "\n",
    "So, let's make some change to file `C`: Edit it, add or remove lines, and save your changes.\n",
    "\n",
    "Then commit the change to your **local** repo:\n",
    "```\n",
    "git add C\n",
    "git commit -m 'my intelligent changes to C' \n",
    "```\n",
    "Typing `git log` will show a new entry in your commit history.\n",
    "\n",
    "**Note:** This change has not yet been trasferred to the remote repo on Github."
   ]
  },
  {
   "cell_type": "markdown",
   "metadata": {
    "slideshow": {
     "slide_type": "subslide"
    }
   },
   "source": [
    "### Before pushing to github\n",
    "# Intermezzo: Some basic git configuration (2)\n",
    "\n",
    "There are two ways to clone a git repo (via https):\n",
    " 1. `git clone https://github.com/<owner>/<repo>` (no username given)\n",
    " 2. `git clone https://<user>@github.com/<owner>/<repo>` (with username given)\n",
    "\n",
    "In order to be able to push Github needs to know *who* you are. \n",
    "When pushing you can avoid being asked for a username each time by cloning with variant 2. In this case the username will automatically provided to Github at each push.\n",
    "\n",
    "## Setting username afterwards\n",
    "If you've cloned with variant 1 (without username) you can set it in a separate step:\n",
    "\n",
    "`git config [--global] credential.https://github.com.username <user>`"
   ]
  },
  {
   "cell_type": "markdown",
   "metadata": {
    "slideshow": {
     "slide_type": "subslide"
    }
   },
   "source": [
    "# Providing your password to Github\n",
    "\n",
    "Not only does the push command require a username but also your password. The combination of username and password is called *credentials*. \n",
    "\n",
    "There are multiple ways that git can retrieve your password, and one possibility is by setting the shell environment variable GIT_ASKPASS or SSH_ASKPASS. These can be configured to retrieve your password e.g. from a password manager. Since we don't have one setup here we need to unset those variables:\n",
    "```bash\n",
    "unset GIT_ASKPASS SSH_ASKPASS\n",
    "```\n",
    "Having those variables unset you will simply be prompted for a password in your shell.\n",
    "\n",
    "## Caching passwords (for a certain time)\n",
    "It is nice not having to type your password for every single push, so a cache can be installed with:\n",
    "\n",
    "`git config [--global] credential.helper 'cache --timeout 900'` (the default)"
   ]
  },
  {
   "cell_type": "markdown",
   "metadata": {
    "slideshow": {
     "slide_type": "subslide"
    }
   },
   "source": [
    "# Pushing (finally)\n",
    "After we have now configured everything we are finally ready to push our change to file `C` to Github:\n",
    "```\n",
    "git push\n",
    "# enter your password\n",
    "```\n",
    "Wow - we're done ;-)"
   ]
  },
  {
   "cell_type": "markdown",
   "metadata": {
    "slideshow": {
     "slide_type": "slide"
    }
   },
   "source": [
    "# Dealing with branches"
   ]
  },
  {
   "cell_type": "markdown",
   "metadata": {
    "slideshow": {
     "slide_type": "subslide"
    }
   },
   "source": [
    "# Branching, committing\n",
    "This is sort of the default work flow in practical day work, e.g. for a new feature.\n",
    "\n",
    "Start with creating a new branch from master, then add and/or edit existing files:\n",
    "```\n",
    "git checkout -b some-feature\n",
    "```\n",
    "This is a shortcut for `git branch some-feature; git checkout some-feature`.<br/>\n",
    "Now apply some modifications, and commit them (use two different commits, to get a bit of history, and only change file C for now).\n",
    "```\n",
    "echo 'C++' > C; git commit -a -m 'changed C to C++'\n",
    "echo 'C++' >> C ; git commit -a -m 'changed C to C++,C++'\n",
    "```"
   ]
  },
  {
   "cell_type": "markdown",
   "metadata": {
    "slideshow": {
     "slide_type": "subslide"
    }
   },
   "source": [
    "# Pushing your feature branch to Github\n",
    "It might be interesting to also push changes in your local feature branch to your (new) feature branch to Github in order to\n",
    "- have a backup\n",
    "- make it available to collaborators.\n",
    "\n",
    "So let's apply the `push`-command. What happens?"
   ]
  },
  {
   "cell_type": "markdown",
   "metadata": {
    "slideshow": {
     "slide_type": "subslide"
    }
   },
   "source": [
    "Git complains that it doesn't know where to push at. Naturally we would assume that the repo should be pushed to a remote branch with the same name. <br/>\n",
    "But git does not work with assumptions. It wants definite instructions!\n",
    "\n",
    "So be more specific:\n",
    "```\n",
    "git push -U origin some-feature\n",
    "```\n",
    "Read this as: Push my current branch to a branch called `some-feature` on the remote server, which is called origin by default. And memorize this connection btw. local and remote branch.\n"
   ]
  },
  {
   "cell_type": "markdown",
   "metadata": {
    "slideshow": {
     "slide_type": "subslide"
    }
   },
   "source": [
    "# Current situation is:\n",
    "<img style=\"height: 700px;\" align=\"center\" src=\"Images/simple-branch-before-and-after-merge.svg\">"
   ]
  },
  {
   "cell_type": "markdown",
   "metadata": {
    "slideshow": {
     "slide_type": "subslide"
    }
   },
   "source": [
    "# Merging the feature branch into master\n",
    "\n",
    "Finally checkout master again, add another change (make sure not to change C for now, but some other file instead), and finally merge the `some-feature`-branch into master:\n",
    "```\n",
    "git checkout master\n",
    "echo 'Bxx' > B; git commit -a -m 'changed B to Bxx'\n",
    "git merge some-feature\n",
    "```"
   ]
  },
  {
   "cell_type": "markdown",
   "metadata": {
    "slideshow": {
     "slide_type": "subslide"
    }
   },
   "source": [
    "# Look at the log, with the `--graph` option\n",
    "```\n",
    "$ git log --graph --decorate --oneline\n",
    "\n",
    "*   525f62f (HEAD, master) Merged branch 'some-feature'\n",
    "|\\  \n",
    "* | 8d3270a changed B to Bxx\n",
    "| * f693afa (some-feature) changed C to C++,C++\n",
    "| * c38472d changed C to C++\n",
    "|/  \n",
    "* 8f211ee modified C\n",
    "```\n",
    "\n"
   ]
  },
  {
   "cell_type": "markdown",
   "metadata": {
    "slideshow": {
     "slide_type": "subslide"
    }
   },
   "source": [
    "# Dealing with merge conflicts\n",
    "\n",
    "A merge conflict will occur if the same area of one or many files has been changed on different branches.\n",
    "\n",
    "Let's create an artificial merge conflict:\n",
    "- From master create a new branch 'myconflict', and check branch out.\n",
    "- Make some modifications to file C in there, and commit them.\n",
    "- Checkout master again, make modifications to file C in the same lines. Commit.\n",
    "\n",
    "Now try to merge branch 'myconflict' into master: `git merge myconflict`.\n",
    "\n",
    "What happens? "
   ]
  },
  {
   "cell_type": "markdown",
   "metadata": {
    "slideshow": {
     "slide_type": "subslide"
    }
   },
   "source": [
    "Git will report some thing like this:\n",
    "```\n",
    "Auto-merging C\n",
    "CONFLICT (content): Merge conflict in C\n",
    "Automatic merge failed; fix conflicts and then commit the result.\n",
    "```\n",
    "Typing `cat C` will show the conflicting area of the two versions:\n",
    "```\n",
    "<<<<<<< HEAD\n",
    "C3-xxxxxxxx\n",
    "=======\n",
    "C3-0000\n",
    ">>>>>>> myconflict\n",
    "```\n",
    "Line(s) from HEAD to the line with the equal signs are located in master, the one(s) below come from your 'myconflict' branch. You will now have to edit the file and decide manually which change you prefer to keep. Then remove all lines with `>` or `<` and with the equal signs. Save your file. Then `git add C; git commit -m 'merged my branches'` and you're set."
   ]
  },
  {
   "cell_type": "markdown",
   "metadata": {
    "slideshow": {
     "slide_type": "subslide"
    }
   },
   "source": [
    "Looking at the graph will show that your merge has been successful:\n",
    "```\n",
    "$ git log --graph --decorate --oneline\n",
    "*   93f4dfc (HEAD -> master) merge my files\n",
    "|\\  \n",
    "| * 91ff9b3 (myconflict) changed C in myconflict branch\n",
    "* | 8d08763 changed C in master branch\n",
    "|/  \n",
    "* e8b0e83 Version 5\n",
    "```"
   ]
  }
 ],
 "metadata": {
  "celltoolbar": "Slideshow",
  "kernelspec": {
   "display_name": "Python 3",
   "language": "python",
   "name": "python3"
  },
  "language_info": {
   "codemirror_mode": {
    "name": "ipython",
    "version": 3
   },
   "file_extension": ".py",
   "mimetype": "text/x-python",
   "name": "python",
   "nbconvert_exporter": "python",
   "pygments_lexer": "ipython3",
   "version": "3.6.4"
  }
 },
 "nbformat": 4,
 "nbformat_minor": 1
}
